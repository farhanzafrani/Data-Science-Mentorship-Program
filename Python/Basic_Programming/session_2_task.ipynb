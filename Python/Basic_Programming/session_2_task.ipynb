{
  "nbformat": 4,
  "nbformat_minor": 0,
  "metadata": {
    "colab": {
      "provenance": []
    },
    "kernelspec": {
      "name": "python3",
      "display_name": "Python 3"
    },
    "language_info": {
      "name": "python"
    }
  },
  "cells": [
    {
      "cell_type": "markdown",
      "source": [
        "### `Problem 1`: Write a program that will give you in hand monthly salary after deduction on CTC - HRA(10%), DA(5%), PF(3%) and taxes deduction as below:\n",
        "\n",
        "> Salary(Lakhs) : Tax(%)\n",
        "\n",
        "*   Below 5 : 0%\n",
        "*   5-10 : 10%\n",
        "*   10-20 : 20%\n",
        "*   aboove 20 : 30%"
      ],
      "metadata": {
        "id": "w6RlOAXV2PWh"
      }
    },
    {
      "cell_type": "code",
      "source": [
        "# Write code here\n",
        "def deducted_salary(salary):\n",
        "  if salary<5:\n",
        "    return \"The salary is: \",salary\n",
        "  elif salary>5 & salary<10:\n",
        "    return \"The salary is: \",salary - salary*0.01\n",
        "  elif salary>10 & salary<20:\n",
        "    return \"The salary is: \",salary - salary*0.02\n",
        "  elif salary>20:\n",
        "    return \"The salary is: \",salary - salary*0.03"
      ],
      "metadata": {
        "id": "7tMHvKYO2etI"
      },
      "execution_count": null,
      "outputs": []
    },
    {
      "cell_type": "code",
      "source": [
        "deducted_salary(12)"
      ],
      "metadata": {
        "id": "36-6Axgyseta",
        "outputId": "29f0a7ea-602a-4a18-a9cf-881ef181f804",
        "colab": {
          "base_uri": "https://localhost:8080/"
        }
      },
      "execution_count": null,
      "outputs": [
        {
          "output_type": "execute_result",
          "data": {
            "text/plain": [
              "('The salary is: ', 11.88)"
            ]
          },
          "metadata": {},
          "execution_count": 3
        }
      ]
    },
    {
      "cell_type": "markdown",
      "source": [
        "### `Problem 2`: Write a program that take a user input of three angles and will find out whether it can form a triangle or not."
      ],
      "metadata": {
        "id": "tYzCGqwl2hfN"
      }
    },
    {
      "cell_type": "code",
      "source": [
        "# Write code here\n",
        "def traingle_angle(angle1,angle2,angle3):\n",
        "  if angle1 + angle2 + angle3 == 180:\n",
        "    return \"The angles will form a triangle\"\n",
        "  else:\n",
        "    return \"The angles will not form a triangle\""
      ],
      "metadata": {
        "id": "FYEqln-I2kxV"
      },
      "execution_count": null,
      "outputs": []
    },
    {
      "cell_type": "code",
      "source": [
        "traingle_angle(20,90,80)"
      ],
      "metadata": {
        "id": "mNNcV-xItVeh",
        "outputId": "e0e44721-3fc5-43ee-b55a-806a5103758b",
        "colab": {
          "base_uri": "https://localhost:8080/",
          "height": 35
        }
      },
      "execution_count": null,
      "outputs": [
        {
          "output_type": "execute_result",
          "data": {
            "text/plain": [
              "'The angles will not form a triangle'"
            ],
            "application/vnd.google.colaboratory.intrinsic+json": {
              "type": "string"
            }
          },
          "metadata": {},
          "execution_count": 6
        }
      ]
    },
    {
      "cell_type": "markdown",
      "source": [
        "### `Problem 3`: Write a program that will take user input of cost price and selling price and determines whether its a loss or a profit."
      ],
      "metadata": {
        "id": "5vEpPh8C2pE4"
      }
    },
    {
      "cell_type": "code",
      "source": [
        "# Write code here\n",
        "def profit_check(cost_price,selling_price):\n",
        "  if selling_price>cost_price:\n",
        "    return (\"The profit is of: \",selling_price - cost_price)\n",
        "  else:\n",
        "    return (\"The loss is of: \",cost_price - selling_price)"
      ],
      "metadata": {
        "id": "jDwBXlkO2sfl"
      },
      "execution_count": null,
      "outputs": []
    },
    {
      "cell_type": "code",
      "source": [
        "profit_check(2000,2500)"
      ],
      "metadata": {
        "id": "twdcuKPLxMxo",
        "outputId": "227edb88-dfe6-4ad3-ed71-e7a5d27a10f6",
        "colab": {
          "base_uri": "https://localhost:8080/"
        }
      },
      "execution_count": null,
      "outputs": [
        {
          "output_type": "execute_result",
          "data": {
            "text/plain": [
              "('The profit is of: ', 500)"
            ]
          },
          "metadata": {},
          "execution_count": 9
        }
      ]
    },
    {
      "cell_type": "markdown",
      "source": [
        "### `Problem 4`: Write a menu-driven program -\n",
        "1. cm to ft\n",
        "2. km to miles\n",
        "3. USD to INR\n",
        "4. exit"
      ],
      "metadata": {
        "id": "J_FG_cJW2ugT"
      }
    },
    {
      "cell_type": "code",
      "source": [
        "# Write code here\n",
        "def menu():\n",
        "  print( \"\"\"\n",
        "  1. cm to ft\n",
        "  2. km to miles\n",
        "  3. USD to PKR\n",
        "  4. exit\n",
        "  \"\"\")"
      ],
      "metadata": {
        "id": "yBHhaCGQ2zpD"
      },
      "execution_count": null,
      "outputs": []
    },
    {
      "cell_type": "code",
      "source": [
        "menu()"
      ],
      "metadata": {
        "id": "7qK9P0zv2APW",
        "outputId": "9c7c8268-f6c0-4401-cc1f-9d37c10ea3bd",
        "colab": {
          "base_uri": "https://localhost:8080/"
        }
      },
      "execution_count": null,
      "outputs": [
        {
          "output_type": "stream",
          "name": "stdout",
          "text": [
            "\n",
            "  1. cm to ft\n",
            "  2. km to miles\n",
            "  3. USD to PKR\n",
            "  4. exit\n",
            "  \n"
          ]
        }
      ]
    },
    {
      "cell_type": "markdown",
      "source": [
        "### `Problem 5` - Exercise 12: Display Fibonacci series up to 10 terms.\n",
        "\n",
        "*Note: The Fibonacci Sequence is a series of numbers. The next number is found by adding up the two numbers before it. The first two numbers are 0 and 1. For example, 0, 1, 1, 2, 3, 5, 8, 13, 21. The next number in this series above is 13+21 = 34*"
      ],
      "metadata": {
        "id": "LJJ30_Yw27ZU"
      }
    },
    {
      "cell_type": "code",
      "source": [
        "# Write code here\n"
      ],
      "metadata": {
        "id": "ae_1rpe52-5R"
      },
      "execution_count": null,
      "outputs": []
    },
    {
      "cell_type": "markdown",
      "source": [
        "### `Problem 6` - Find the factorial of a given number.\n",
        "\n",
        "Write a program to use the loop to find the factorial of a given number.\n",
        "\n",
        "The factorial (symbol: `!`) means to multiply all whole numbers from the chosen number down to 1.\n",
        "\n",
        "For example: calculate the factorial of 5\n",
        "\n",
        "```bash\n",
        "5! = 5 × 4 × 3 × 2 × 1 = 120\n",
        "```\n",
        "\n",
        "Output:\n",
        "\n",
        "```bash\n",
        "120\n",
        "```"
      ],
      "metadata": {
        "id": "pk_I_S4m3PT5"
      }
    },
    {
      "cell_type": "code",
      "source": [
        "# Write code here\n",
        "def factorial(x):\n",
        "    if x == 1:\n",
        "        return 1\n",
        "    elif x<0:\n",
        "      return \"Factorial doesn't exists...\"\n",
        "    else:\n",
        "        # recursive call to the function\n",
        "        return (x * factorial(x-1))"
      ],
      "metadata": {
        "id": "lzXxHegx3Rkc"
      },
      "execution_count": null,
      "outputs": []
    },
    {
      "cell_type": "code",
      "source": [
        "factorial(8)"
      ],
      "metadata": {
        "id": "EERJ-_ED0Wy-",
        "outputId": "213c3b31-3a11-4ac3-a079-022302844b2f",
        "colab": {
          "base_uri": "https://localhost:8080/"
        }
      },
      "execution_count": null,
      "outputs": [
        {
          "output_type": "execute_result",
          "data": {
            "text/plain": [
              "40320"
            ]
          },
          "metadata": {},
          "execution_count": 52
        }
      ]
    },
    {
      "cell_type": "markdown",
      "source": [
        "### `Problem 7` - Reverse a given integer number.\n",
        "\n",
        "Example:\n",
        "\n",
        "`Input:`\n",
        "\n",
        "```bash\n",
        "76542\n",
        "```\n",
        "\n",
        "`Output:`\n",
        "\n",
        "```bash\n",
        "24567\n",
        "```"
      ],
      "metadata": {
        "id": "-17IOi-g3UpU"
      }
    },
    {
      "cell_type": "code",
      "source": [
        "# Write code here\n",
        "def integer(number):\n",
        "  return int(str(number)[::-1])"
      ],
      "metadata": {
        "id": "wJwLpKCr3aVA"
      },
      "execution_count": null,
      "outputs": []
    },
    {
      "cell_type": "code",
      "source": [
        "integer(20349)"
      ],
      "metadata": {
        "id": "3uqk8URqxzjB",
        "outputId": "361232a9-63c6-4faf-87b9-c8eeaf952591",
        "colab": {
          "base_uri": "https://localhost:8080/"
        }
      },
      "execution_count": null,
      "outputs": [
        {
          "output_type": "execute_result",
          "data": {
            "text/plain": [
              "94302"
            ]
          },
          "metadata": {},
          "execution_count": 38
        }
      ]
    },
    {
      "cell_type": "markdown",
      "source": [
        "### `Problem 8`: Take a user input as integer N. Find out the sum from 1 to N. If any number if divisible by 5, then skip that number. And if the sum is greater than 300, don't need to calculate the sum further more. Print the final result. And don't use for loop to solve this problem.\n",
        "\n",
        "**Example 1:**\n",
        "\n",
        "`Input:`\n",
        "\n",
        "```bash\n",
        "30\n",
        "```\n",
        "\n",
        "`Output:`\n",
        "\n",
        "```bash\n",
        "276\n",
        "```"
      ],
      "metadata": {
        "id": "-t8PJQaY3sHf"
      }
    },
    {
      "cell_type": "code",
      "source": [
        "# Write code here"
      ],
      "metadata": {
        "id": "GZB6mGMP3ujT"
      },
      "execution_count": null,
      "outputs": []
    },
    {
      "cell_type": "markdown",
      "source": [
        "### `Problem 9`: Write a program that keeps on accepting a number from the user until the user enters Zero. Display the sum and average of all the numbers."
      ],
      "metadata": {
        "id": "Q7ggImeA3xm4"
      }
    },
    {
      "cell_type": "code",
      "source": [
        "# Write code here"
      ],
      "metadata": {
        "id": "t_YDSZDe4Kdo"
      },
      "execution_count": null,
      "outputs": []
    },
    {
      "cell_type": "markdown",
      "source": [
        "###`Problem 9`: Write a program which will find all such numbers which are divisible by 7 but are not a multiple of 5, between 2000 and 3200 (both included). The numbers obtained should be printed in a comma-separated sequence on a single line."
      ],
      "metadata": {
        "id": "6EhvEMvm4R7s"
      }
    },
    {
      "cell_type": "code",
      "source": [
        "# Write code here"
      ],
      "metadata": {
        "id": "d6RgP1B34T6c"
      },
      "execution_count": null,
      "outputs": []
    },
    {
      "cell_type": "markdown",
      "source": [
        "###`Problem 10`: Write a program, which will find all such numbers between 1000 and 3000 (both included) such that each digit of the number is an even number. The numbers obtained should be printed in a space-separated sequence on a single line.\n",
        "\n"
      ],
      "metadata": {
        "id": "tYvmRR-G4Vp4"
      }
    },
    {
      "cell_type": "code",
      "source": [
        "# Write code here"
      ],
      "metadata": {
        "id": "k6Gs1kIf4k19"
      },
      "execution_count": null,
      "outputs": []
    },
    {
      "cell_type": "markdown",
      "source": [
        "###`Problem 11`: A robot moves in a plane starting from the original point (0,0). The robot can move toward UP, DOWN, LEFT and RIGHT with a given steps.\n",
        "The trace of robot movement is shown as the following:\n",
        "```\n",
        "UP 5\n",
        "DOWN 3\n",
        "LEFT 3\n",
        "RIGHT 2\n",
        "!\n",
        "```\n",
        "> The numbers after the direction are steps.\n",
        "\n",
        "> `!` means robot stop there.\n",
        "\n",
        "**Please write a program to compute the distance from current position after a sequence of movement and original point.**\n",
        "\n",
        "*If the distance is a float, then just print the nearest integer.*\n",
        "\n",
        "Example:\n",
        "\n",
        "`Input`:\n",
        "```\n",
        "UP 5\n",
        "DOWN 3\n",
        "LEFT 3\n",
        "RIGHT 2\n",
        "!\n",
        "```\n",
        "`Output`:\n",
        "```\n",
        "2\n",
        "```"
      ],
      "metadata": {
        "id": "GV18IINT4mf5"
      }
    },
    {
      "cell_type": "code",
      "source": [
        "# Write code here"
      ],
      "metadata": {
        "id": "6UNMC2aR4w5x"
      },
      "execution_count": null,
      "outputs": []
    },
    {
      "cell_type": "markdown",
      "source": [
        "###`Problem 12`:Write a program to print whether a given number is a prime number or not"
      ],
      "metadata": {
        "id": "3fsAIAhK5GYY"
      }
    },
    {
      "cell_type": "code",
      "source": [
        "# Write code here"
      ],
      "metadata": {
        "id": "j6y91lxy5LZs"
      },
      "execution_count": null,
      "outputs": []
    },
    {
      "cell_type": "markdown",
      "source": [
        "###`Problem 13`:Print all the Armstrong numbers in a given range.\n",
        "Range will be provided by the user<br>\n",
        "Armstrong number is a number that is equal to the sum of cubes of its digits. For example 0, 1, 153, 370, 371 and 407 are the Armstrong numbers."
      ],
      "metadata": {
        "id": "asAbmbK-5NHv"
      }
    },
    {
      "cell_type": "code",
      "source": [
        "# Write code here"
      ],
      "metadata": {
        "id": "PZuI67pm5jCT"
      },
      "execution_count": null,
      "outputs": []
    },
    {
      "cell_type": "markdown",
      "source": [
        "###`Problem 14`:Calculate the angle between the hour hand and minute hand.\n",
        "\n",
        "Note: There can be two angles between hands; we need to print a minimum of two. Also, we need to print the floor of the final result angle. For example, if the final angle is 10.61, we need to print 10.\n",
        "\n",
        "Input:<br>\n",
        "H = 9 , M = 0<br>\n",
        "Output:<br>\n",
        "90<br>\n",
        "Explanation:<br>\n",
        "The minimum angle between hour and minute\n",
        "hand when the time is 9 is 90 degress."
      ],
      "metadata": {
        "id": "ClCQZMqT7gK0"
      }
    },
    {
      "cell_type": "code",
      "source": [
        "# Write code here"
      ],
      "metadata": {
        "id": "tNBTCZML7jy_"
      },
      "execution_count": null,
      "outputs": []
    },
    {
      "cell_type": "markdown",
      "source": [
        "###`Problem 15`:Given two rectangles, find if the given two rectangles overlap or not. A rectangle is denoted by providing the x and y coordinates of two points: the left top corner and the right bottom corner of the rectangle. Two rectangles sharing a side are considered overlapping. (L1 and R1 are the extreme points of the first rectangle and L2 and R2 are the extreme points of the second rectangle).\n",
        "\n",
        "Note: It may be assumed that the rectangles are parallel to the coordinate axis.\n",
        "\n",
        "<img src='https://www.geeksforgeeks.org/wp-content/uploads/rectanglesOverlap.png' width='300' height='200'>"
      ],
      "metadata": {
        "id": "GwacF9Co72Qc"
      }
    },
    {
      "cell_type": "code",
      "source": [
        "# Write code here"
      ],
      "metadata": {
        "id": "6rrw_lpH78Rs"
      },
      "execution_count": null,
      "outputs": []
    }
  ]
}